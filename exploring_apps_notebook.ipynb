{
 "cells": [
  {
   "cell_type": "markdown",
   "metadata": {
    "application/vnd.databricks.v1+cell": {
     "cellMetadata": {},
     "inputWidgets": {},
     "nuid": "51204c29-f498-4983-8b3c-2a2574c85b0a",
     "showTitle": false,
     "title": ""
    }
   },
   "source": [
    "(APP PHONE)\n",
    "https://www.forbes.com/advisor/business/best-receipt-scanner-apps/\n",
    "top 10 receipt scanners 2023\n",
    "\n",
    "\n",
    "okazuje sie overallowo ze jest tego sporo, dlatego moze jednak przejde do szukania paczek i kodu na githubie\n",
    "jedyne na co trzeba uwazac, jest duzo ktore traktuja caly paragon jako jedno, jest takze czesto opcja samodzielnego wyboru kategorii\n",
    "\n",
    "a tutaj darmowe np WAVE(na na swoim storze nie znalazlem), wiekszosc platna z tej listy up przynajmniej"
   ]
  },
  {
   "cell_type": "markdown",
   "metadata": {
    "application/vnd.databricks.v1+cell": {
     "cellMetadata": {},
     "inputWidgets": {},
     "nuid": "82e999f4-1968-47da-b1df-16be697b4790",
     "showTitle": false,
     "title": ""
    }
   },
   "source": [
    "1. RECEIPT OCR (WEB)\n",
    "zczytuje produkty, ale jak widzicie np jedna cene ominal. Zdjecie przetwarzal stosunkowo dlugo (z minute). Ciekaw jestem ile naszej apce moze zajmowac to czasu. Nie mniej jednak najważniejsze produkty zostaly wykryte (jesli nie bedziemy miec ceny, mozna wrzucic jakas srednia). Calkowita cena (i podatki) tez zostaly wykryte.\n",
    "\n",
    "2. OCR API (\n",
    "    tbh to z linku nie wiem jaki ma limit zapytan,\n",
    "    dziala na innych jezykach niz ang,\n",
    "    mega proste, wszystko konwertuje w slownik)\n",
    "\n",
    "    https://www.youtube.com/watch?v=dSCJ7DImGdA\n",
    "3. OCR in opencv\n",
    "https://www.youtube.com/watch?v=tQGgGY8mTP0&list=PL2VXyKi-KpYuTAZz__9KVl1jQz74bDG7i\n",
    "4. ASPRISE OCR\n",
    "https://asprise.com/royalty-free-library/python-ocr-api-overview.html"
   ]
  },
  {
   "cell_type": "markdown",
   "metadata": {
    "application/vnd.databricks.v1+cell": {
     "cellMetadata": {},
     "inputWidgets": {},
     "nuid": "f93c0a1f-9487-4157-9163-7c40413c8368",
     "showTitle": false,
     "title": ""
    }
   },
   "source": [
    "WYWIAD SRODOWISKOWY\n",
    "1. good idea, ale juz tez takie istnieja\n",
    "2. dobra vizualizacja wydatkow\n",
    "3. mozliwosc porownywania z innymi uzytkownikami (dane wrazliwe, ale moze jakas srednia)\n",
    "4. porownywanie z innymi krajami (nooo w naszej test wersji chyba nie)\n",
    "5. OCR dobrze zrobiony (czasem jak w apce typu PanParagon zczytuje jedynie calkowita cene)"
   ]
  }
 ],
 "metadata": {
  "application/vnd.databricks.v1+notebook": {
   "dashboards": [],
   "language": "python",
   "notebookMetadata": {
    "pythonIndentUnit": 4
   },
   "notebookName": "exploring_apps_notebook",
   "widgets": {}
  },
  "kernelspec": {
   "display_name": "Python 3",
   "language": "python",
   "name": "python3"
  },
  "language_info": {
   "name": "python",
   "version": "3.9.12"
  },
  "orig_nbformat": 4
 },
 "nbformat": 4,
 "nbformat_minor": 0
}
