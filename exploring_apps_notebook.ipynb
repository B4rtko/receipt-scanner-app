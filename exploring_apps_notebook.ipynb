{
 "cells": [
  {
   "cell_type": "markdown",
   "metadata": {
    "application/vnd.databricks.v1+cell": {
     "cellMetadata": {},
     "inputWidgets": {},
     "nuid": "08b91578-ed6f-4734-b281-f37c79a3acf5",
     "showTitle": false,
     "title": ""
    }
   },
   "source": [
    "1. RECEIPT OCR (WEB)"
   ]
  },
  {
   "cell_type": "markdown",
   "metadata": {
    "application/vnd.databricks.v1+cell": {
     "cellMetadata": {},
     "inputWidgets": {},
     "nuid": "5bb81a0b-f9b3-4fa2-87e0-b6d15161a6e4",
     "showTitle": false,
     "title": ""
    }
   },
   "source": [
    "![image-2.png](attachment:image-2.png)"
   ]
  },
  {
   "cell_type": "markdown",
   "metadata": {
    "application/vnd.databricks.v1+cell": {
     "cellMetadata": {},
     "inputWidgets": {},
     "nuid": "82e999f4-1968-47da-b1df-16be697b4790",
     "showTitle": false,
     "title": ""
    }
   },
   "source": [
    "OPIS:\n",
    "zczytuje produkty, ale jak widzicie np jedna cene ominal. Zdjecie przetwarzal stosunkowo dlugo (z minute). Ciekaw jestem ile naszej apce moze zajmowac to czasu. Nie mniej jednak najważniejsze produkty zostaly wykryte (jesli nie bedziemy miec ceny, mozna wrzucic jakas srednia). Calkowita cena (i podatki) tez zostaly wykryte."
   ]
  },
  {
   "cell_type": "code",
   "execution_count": 0,
   "metadata": {
    "application/vnd.databricks.v1+cell": {
     "cellMetadata": {},
     "inputWidgets": {},
     "nuid": "d2095ee4-29c1-4cec-9d5f-92a3eabfe6db",
     "showTitle": false,
     "title": ""
    }
   },
   "outputs": [],
   "source": [
    "test2"
   ]
  }
 ],
 "metadata": {
  "application/vnd.databricks.v1+notebook": {
   "dashboards": [],
   "language": "python",
   "notebookMetadata": {
    "pythonIndentUnit": 4
   },
   "notebookName": "exploring_apps_notebook",
   "widgets": {}
  },
  "kernelspec": {
   "display_name": "Python 3",
   "language": "python",
   "name": "python3"
  },
  "language_info": {
   "name": "python",
   "version": "3.9.12"
  },
  "orig_nbformat": 4
 },
 "nbformat": 4,
 "nbformat_minor": 0
}
