{
 "cells": [
  {
   "cell_type": "markdown",
   "metadata": {
    "application/vnd.databricks.v1+cell": {
     "cellMetadata": {},
     "inputWidgets": {},
     "nuid": "51204c29-f498-4983-8b3c-2a2574c85b0a",
     "showTitle": false,
     "title": ""
    }
   },
   "source": [
    "APP\n",
    "https://www.forbes.com/advisor/business/best-receipt-scanner-apps/\n",
    "top 10 receipt scanners 2023"
   ]
  },
  {
   "cell_type": "markdown",
   "metadata": {
    "application/vnd.databricks.v1+cell": {
     "cellMetadata": {
      "byteLimit": 2048000,
      "rowLimit": 10000
     },
     "inputWidgets": {},
     "nuid": "79a5be85-79ce-4b2b-9921-5eada81dee73",
     "showTitle": false,
     "title": ""
    }
   },
   "source": [
    "1. sa tutaj darmowe np WAVE"
   ]
  },
  {
   "cell_type": "markdown",
   "metadata": {
    "application/vnd.databricks.v1+cell": {
     "cellMetadata": {},
     "inputWidgets": {},
     "nuid": "08b91578-ed6f-4734-b281-f37c79a3acf5",
     "showTitle": false,
     "title": ""
    }
   },
   "source": [
    "1. RECEIPT OCR (WEB)"
   ]
  },
  {
   "cell_type": "markdown",
   "metadata": {
    "application/vnd.databricks.v1+cell": {
     "cellMetadata": {},
     "inputWidgets": {},
     "nuid": "5bb81a0b-f9b3-4fa2-87e0-b6d15161a6e4",
     "showTitle": false,
     "title": ""
    }
   },
   "source": [
    "![image-2.png](attachment:image-2.png)"
   ]
  },
  {
   "cell_type": "markdown",
   "metadata": {
    "application/vnd.databricks.v1+cell": {
     "cellMetadata": {},
     "inputWidgets": {},
     "nuid": "82e999f4-1968-47da-b1df-16be697b4790",
     "showTitle": false,
     "title": ""
    }
   },
   "source": [
    "OPIS:\n",
    "zczytuje produkty, ale jak widzicie np jedna cene ominal. Zdjecie przetwarzal stosunkowo dlugo (z minute). Ciekaw jestem ile naszej apce moze zajmowac to czasu. Nie mniej jednak najważniejsze produkty zostaly wykryte (jesli nie bedziemy miec ceny, mozna wrzucic jakas srednia). Calkowita cena (i podatki) tez zostaly wykryte."
   ]
  },
  {
   "cell_type": "markdown",
   "metadata": {
    "application/vnd.databricks.v1+cell": {
     "cellMetadata": {},
     "inputWidgets": {},
     "nuid": "d2095ee4-29c1-4cec-9d5f-92a3eabfe6db",
     "showTitle": false,
     "title": ""
    }
   },
   "source": [
    "2. OCR API (\n",
    "    tbh to z linku nie wiem jaki ma limit zapytan,\n",
    "    dziala na innych jezykach niz ang,\n",
    "    mega proste, wszystko konwertuje w slownik)\n",
    "\n",
    "    https://www.youtube.com/watch?v=dSCJ7DImGdA"
   ]
  },
  {
   "cell_type": "markdown",
   "metadata": {
    "application/vnd.databricks.v1+cell": {
     "cellMetadata": {},
     "inputWidgets": {},
     "nuid": "14f7a303-8f90-4f37-a191-7cd1b3da15bc",
     "showTitle": false,
     "title": ""
    }
   },
   "source": [
    "3. OCR in opencv\n",
    "https://www.youtube.com/watch?v=tQGgGY8mTP0&list=PL2VXyKi-KpYuTAZz__9KVl1jQz74bDG7i"
   ]
  },
  {
   "cell_type": "markdown",
   "metadata": {
    "application/vnd.databricks.v1+cell": {
     "cellMetadata": {
      "byteLimit": 2048000,
      "rowLimit": 10000
     },
     "inputWidgets": {},
     "nuid": "a89dba57-baac-4acd-9f7e-f097258c5bd0",
     "showTitle": false,
     "title": ""
    }
   },
   "source": [
    "4. ASPRISE OCR\n",
    "https://asprise.com/royalty-free-library/python-ocr-api-overview.html"
   ]
  },
  {
   "cell_type": "markdown",
   "metadata": {
    "application/vnd.databricks.v1+cell": {
     "cellMetadata": {
      "byteLimit": 2048000,
      "rowLimit": 10000
     },
     "inputWidgets": {},
     "nuid": "107f7467-5c71-4a85-a900-4a9cf184e3a2",
     "showTitle": false,
     "title": ""
    }
   },
   "source": [
    "okazuje sie overallowo ze jest tego sporo, dlatego moze jednak przejde do szukania paczek i kodu na githubie\n",
    "jedyne na co trzeba uwazac, jest duzo ktore traktuja caly paragon jako jedno, jest takze czesto opcja samodzielnego wyboru kategorii"
   ]
  }
 ],
 "metadata": {
  "application/vnd.databricks.v1+notebook": {
   "dashboards": [],
   "language": "python",
   "notebookMetadata": {
    "pythonIndentUnit": 4
   },
   "notebookName": "exploring_apps_notebook",
   "widgets": {}
  },
  "kernelspec": {
   "display_name": "Python 3",
   "language": "python",
   "name": "python3"
  },
  "language_info": {
   "name": "python",
   "version": "3.9.12"
  },
  "orig_nbformat": 4
 },
 "nbformat": 4,
 "nbformat_minor": 0
}
